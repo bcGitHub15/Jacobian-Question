{
 "cells": [
  {
   "cell_type": "markdown",
   "id": "b3c48ad6-2391-49ab-9b03-2a9d2772be11",
   "metadata": {},
   "source": [
    "Numeric vs. Algebraic Integration\n",
    "=================================\n",
    "\n",
    "Gordon raises the idea that we must find the same total number of neutrons in a spectrum whether we do the integral in wavelength or in velocity space. This means that the translation from one space to another has to be done with particular care when you do it numerically. Let's start with a simple algebraic example to see what happens when we go from one space to the other.\n",
    "\n",
    "The Algebraic Route\n",
    "-------------------\n",
    "\n",
    "Start with a Maxwell-Boltzman distribution\n",
    "\n",
    "$$f(v)dv = \\left( \\dfrac{m}{2\\pi{}k_{B}T} \\right)^\\frac{3}{2} v^{2} e^{-\\dfrac{mv^{2}}{2k_{B}T}} dv$$"
   ]
  },
  {
   "cell_type": "markdown",
   "id": "9b18725d-3080-4ac9-9e22-9fd2f6511b14",
   "metadata": {},
   "source": [
    "This is given as a probablility density so its integral over all space should be 1. Let's check.\n",
    "\n",
    "Writing $a=\\sqrt{k_{B}T/m}$ we can write the integral as\n",
    "$$\\int_{v=0}^{\\infty} \\sqrt{\\dfrac{2}{\\pi{}}} \\frac{v^{2}}{a^{3}} e^{-\\dfrac{v^{2}}{2a^{2}}} dv$$ \n"
   ]
  },
  {
   "cell_type": "markdown",
   "id": "c3808e9f-8403-4059-9dd9-826c0f593c15",
   "metadata": {},
   "source": [
    "We can integrate this by parts, though for sanity I will use the dummy variables $u$ and $w$ instead of $u$ and $v$ to avoid obvious confusion. We are doing $\\int u dw$ and will identify $u=v$ and $dw= v e^{-\\dfrac{v^{2}}{2a^{2}}} dv$ so that $du = dv$ and $w = -a^{2} e^{-\\dfrac{v^{2}}{2a^{2}}}$ \n",
    "\n",
    "This gives us\n",
    "$$\\int_{v=0}^{\\infty} v^{2} e^{-\\dfrac{v^{2}}{2a^{2}}} dv = \\left[ -a^{2} v e^{-\\dfrac{v^{2}}{2a^{2}}} \\right]_{v=0}^{\\infty} + \\int_{v=0}^{\\infty} a^{2} e^{-\\dfrac{v^{2}}{2a^{2}}} dv$$ \n",
    "\n",
    "The first (bracketed) term vanishes because it goes to zero at both limits and we recognize the second integral as a form of\n",
    "$$\\int_{v=0}^{\\infty} e^{-A v^{2}} dv = \\frac{1}{2} \\sqrt{\\frac{\\pi}{A}}$$\n",
    "where $A = \\frac{1}{2 a^{2}}$ so that\n",
    "$$\\int_{v=0}^{\\infty} v^{2} e^{-\\dfrac{v^{2}}{2a^{2}}} dv = 0 + a^{2} \\frac{1}{2} \\sqrt{2 a^{2} \\pi} = a^{3} \\sqrt{\\frac{\\pi}{2}}$$ \n",
    "and our original integral becomes\n",
    "$$\\int_{v=0}^{\\infty} \\sqrt{\\dfrac{2}{\\pi{}}} \\frac{v^{2}}{a^{3}} e^{-\\dfrac{v^{2}}{2a^{2}}} dv = \\frac{1}{a^{3}} \\sqrt{\\dfrac{2}{\\pi{}}} a^{3} \\sqrt{\\frac{\\pi}{2}} = 1$$"
   ]
  },
  {
   "cell_type": "markdown",
   "id": "2395c351-59e4-432a-b708-f9431038d90c",
   "metadata": {},
   "source": [
    "If we naively convert the probability distribution to wavelength and integrate then we introduce an error. Writing $v \\lambda = v_{0} \\lambda_{0}$ so that $v = \\frac{v_{0} \\lambda_{0}}{\\lambda{}}$ I can incorrectly write\n",
    "$$f'(\\lambda ) = \\sqrt{\\dfrac{2}{\\pi{}}} \\frac{1}{a^{3}} \\frac{v_{0}^{2}\\lambda_{0}^{2}}{\\lambda{}^{2}} e^{-\\dfrac{v_{0}^{2} \\lambda_{0}^{2}}{2a^{2} \\lambda{}^{2}}}$$\n",
    "Integrating this over the domain $0 \\rightarrow \\infty$ gives us an answer that makes no sense algebraically because the units are all wrong\n",
    "$$\\sqrt{\\dfrac{2}{\\pi{}}} \\frac{1}{a^{3}} \\frac{v_{0}^{2}\\lambda_{0}^{2}}{\\lambda{}^{2}} e^{-\\dfrac{v_{0}^{2} \\lambda_{0}^{2}}{2a^{2} \\lambda{}^{2}}} = \\frac{1}{\\sqrt{2}} \\frac{v_{0} \\lambda_{0}}{a^{2}}$$"
   ]
  },
  {
   "cell_type": "markdown",
   "id": "8ff5f40b-34a1-4051-8525-6c8c71affe17",
   "metadata": {},
   "source": [
    "The problem is that we replaced the $v$'s in the body with the correct expression for $\\lambda$ but  did not replace the $dv$. Noting that since $v = \\frac{v_{0} \\lambda_{0}}{\\lambda{}}$ then $dv = \\frac{-v_{0} \\lambda_{0}}{\\lambda{}^{2}} d\\lambda$ we find the the actual replacement we should make is\n",
    "$$f'(\\lambda ) d\\lambda = -\\sqrt{\\dfrac{2}{\\pi{}}} \\frac{1}{a^{3}} \\frac{v_{0}^{2}\\lambda_{0}^{2}}{\\lambda{}^{2}} e^{-\\dfrac{v_{0}^{2} \\lambda_{0}^{2}}{2a^{2} \\lambda{}^{2}}} \\frac{v_{0} \\lambda_{0}}{\\lambda{}^{2}} d\\lambda = -\\sqrt{\\dfrac{2}{\\pi{}}} \\frac{1}{a^{3}} \\frac{v_{0}^{3}\\lambda_{0}^{3}}{\\lambda{}^{4}} e^{-\\dfrac{v_{0}^{2} \\lambda_{0}^{2}}{2a^{2} \\lambda{}^{2}}}  d\\lambda = 1$$\n",
    "exactly as before. So the change of variables has to be done completely or not at all."
   ]
  },
  {
   "cell_type": "markdown",
   "id": "1728236e-1b8a-4a31-9d3b-9cb272ca92a7",
   "metadata": {
    "tags": []
   },
   "source": [
    "The Discrete Route\n",
    "------------------\n",
    "\n",
    "This time we start our not with a formula but with a set of values that we think of as being samples of the underlying continuous distribution. In velocity space we start out with the set $\\left\\{ I_{i} \\right\\}$ which we think of as being \n",
    "$$I_{i} = f(v_{i}) = \\left( \\dfrac{m}{2\\pi{}k_{B}T} \\right)^\\frac{3}{2} v_{i}^{2} e^{-\\dfrac{mv_{i}^{2}}{2k_{B}T}}$$\n",
    "If we are extremely wary, we should already be worried because we have *lost* the $dv$ that proved so crucial in the algebraic method. It is still there, but it is hidden inside the set of $\\left\\{ v_{i} \\right\\} $.\n",
    "\n",
    "Now the integrated intensity is achieved by summing over the $\\left\\{ I_{i} \\right\\} $, and it does not matter whether we think of them as being in velocity space or in wavelength space, the sum is simply a sum. The hidden sample spacing does the right thing in each case but since we can't see it we don't notice its gyrations.\n",
    "\n",
    "As soon as we start to use the sample to compute an interesting integral, however, the hidden sample spacing sits ready to bite us. To understand this we need to look more carefully at the meaning of our finite sample and its relationship to the underlying distribution."
   ]
  },
  {
   "cell_type": "markdown",
   "id": "5e0e9d95-190d-44ed-9558-7f0787f645bf",
   "metadata": {},
   "source": [
    "Thinking carefully about the discrete samples\n",
    "---------------------------------------------\n",
    "\n",
    "When we go to the discrete domain then we have to think quite carefully about what a discrete representation means. We started with a dataset $\\left\\{ \\lambda{}_{i} ,I_{\\lambda{}i} \\right\\}$ where each value represented the actual number of neutrons found in some small range $\\delta{}\\lambda$ of a mid value that . Each number in some sense encodes both the height and the width of the range. In fact, we have\n",
    "$$I_{\\lambda{}i} = \\int_{0.5 ( \\lambda{}_{i} + \\lambda{}_{i-1})}^{0.5 ( \\lambda{}_{i+1} + \\lambda{}_{i})} I(\\lambda) d\\lambda$$"
   ]
  },
  {
   "cell_type": "markdown",
   "id": "aceb719c-1d88-46cd-8dc0-6c35822b39f6",
   "metadata": {},
   "source": [
    "Because of this we get the following simple relation\n",
    "$$\\int_{\\lambda} I(\\lambda) d\\lambda = \\sum_{i} I_{\\lambda{}i}$$"
   ]
  },
  {
   "cell_type": "markdown",
   "id": "76e4a3d0-62d7-4fd3-9598-253ba2a5829d",
   "metadata": {},
   "source": [
    "Now, if we translate to velocity space by converting the $\\lambda_{i}$ to $v_{i}$ using\n",
    "$$v_{i} = \\dfrac{h}{m \\lambda(v_{i})}$$\n",
    "then we end up with a new data set $\\left\\{ v_{i} ,I_{vi} \\right\\}$ where the Is are the same numbers but now have a different meaning. $I_{vi}$ means the number of neutron with *velocities* in some range of $v_{i}$, in fact\n",
    "$$I_{vi} = \\int_{0.5 ( v_{i} + v_{i-1})}^{0.5 ( v_{i+1} + v_{i})} I(v) dv$$"
   ]
  },
  {
   "cell_type": "markdown",
   "id": "22934dd5-0391-48c4-abb4-a03d48c8e905",
   "metadata": {},
   "source": [
    "This means that we again have the simple relation\n",
    "$$\\int_{v} I(v) dv = \\sum_{i} I_{vi}$$\n",
    "which makes total sense since the number of neutrons must be the same whether you think of them as being grouped in $\\lambda$ space or in $v$ space."
   ]
  },
  {
   "cell_type": "markdown",
   "id": "f23f064f-16c7-4201-93c0-31bb575a9cc1",
   "metadata": {
    "tags": []
   },
   "source": [
    "We can visualize this in very much the same way that we normally visualize discrete approximations to integrals. We have the underlying distribution functions that we model with a set of samples. The density functions in our case have the units of either neutrons per unit wavelength or neutrons per unit velocity. The samples, however, have units of neutrons per slice. This makes putting the two sets on the same graph slightly problematic as we have to do some kind of scaling. Essentially, each number in the sample represents not a single point on the plot but the area under a small region. We get something like the following graph, in which I focus on representing a single sample from the underlying distribution.\n",
    "![Img1.png](./Img1.png)"
   ]
  },
  {
   "cell_type": "markdown",
   "id": "1b7aa77e-15d7-42fa-8cc5-51b789ebe0d1",
   "metadata": {
    "tags": []
   },
   "source": [
    "The shaded black region represents the area under the curve that corresponds to the number $I_{\\lambda{}i}$. By definition, $\\lambda{}_i$ at the horizontal center of the shaded area and the value of $I_{\\lambda{}i}$ corresponds to the height of the red block. However, the red block does not intersect the actual curve at the center. The discrepancy between the actual point of intersection of the red box and the horizontal center of the region is the discretization error that make when we represent this distribution by this finite sample. Note that we can improve the discretization error by choosing to draw the red box as a trapezoid instead of a rectangle, just as we can improve the discrete approximation to an integral by switching from a simple Euler-style integration to a trapezoidal rule, and improve still further by higher order approximations but these do not affect the fundamental point. Obviously, the larger the number of slices, the smaller the discretization error.\n",
    "\n",
    "This graph then tells us exactly how we must think of our sample when we view it in velocity space. We must preserve the *areas* of these slices in order to preserve the relationship to the appropriate distribution. For example, consider the extremely non-physical distribution\n",
    "$$I(\\lambda{})=100 \\left( 1 - \\dfrac{\\lambda}{\\lambda_{0}} \\right)$$\n",
    "over the domain $$\\left[ 1, \\lambda_{0} \\right], $$\n",
    "which, setting $\\lambda_{0} = 101$, looks like this"
   ]
  },
  {
   "cell_type": "code",
   "execution_count": 11,
   "id": "cad1751c-a8bd-4751-8a19-dfd9be219cfe",
   "metadata": {},
   "outputs": [
    {
     "data": {
      "text/plain": [
       "[<matplotlib.lines.Line2D at 0x7ff0985abc40>]"
      ]
     },
     "execution_count": 11,
     "metadata": {},
     "output_type": "execute_result"
    },
    {
     "data": {
      "image/png": "[encoded data removed]",
      "text/plain": [
       "<Figure size 432x288 with 1 Axes>"
      ]
     },
     "metadata": {
      "needs_background": "light"
     },
     "output_type": "display_data"
    }
   ],
   "source": [
    "import matplotlib.pyplot as plt\n",
    "import numpy as np\n",
    "\n",
    "def I(lam):\n",
    "    return 100 * (1 - lam/101)\n",
    "\n",
    "lcont = np.linspace(1, 101, 1001)\n",
    "Icont = I(lcont)\n",
    "plt.plot(lcont, Icont)"
   ]
  },
  {
   "cell_type": "markdown",
   "id": "7b5844aa-587d-428b-83f9-1b823ffdda43",
   "metadata": {},
   "source": [
    "**Note**: I chose this odd domain to make sure that our domain did not include 0, which would greatly complicate matters in the velocity domain.\n",
    "\n",
    "Now, to make things easy to see, we will select a very coarse approximation to our distribution, representing it by only 10 values, equally spaced over the domain $\\left[ 0, 100 \\right]$. We form these numbers in the way described above, \n",
    "$$I_{\\lambda{}i} = \\int_{0.5 ( \\lambda{}_{i} + \\lambda{}_{i-1})}^{0.5 ( \\lambda{}_{i+1} + \\lambda{}_{i})} I(\\lambda) d\\lambda$$\n",
    "so that, e.g. the first sample has width 10, center at 6, and runs over the domain $\\left[ 1, 11 \\right]$ so that\n",
    "$$I_{1} = \\int_{1}^{11} 100 \\left( 1 - \\dfrac{\\lambda}{101} \\right) d\\lambda = 100 \\left[ \\lambda - \\dfrac{\\lambda{}^{2}}{202} \\right]_{1}^{11} = 100 \\left[ 11 - \\dfrac{121}{202} \\right] - 100 \\left[ 1 - \\dfrac{1}{202} \\right] = 100 (10 - 0.594) = 940.594,$$\n",
    "which is exactly 10 times the value of I at 6 because this is a straight line. This makes it easy to compute our complete sample as"
   ]
  },
  {
   "cell_type": "code",
   "execution_count": 13,
   "id": "a553b224-85e4-4b48-9b80-9814d3ed6e1f",
   "metadata": {
    "tags": []
   },
   "outputs": [
    {
     "name": "stdout",
     "output_type": "stream",
     "text": [
      "[ 6. 16. 26. 36. 46. 56. 66. 76. 86. 96.]\n",
      "[940.59405941 841.58415842 742.57425743 643.56435644 544.55445545\n",
      " 445.54455446 346.53465347 247.52475248 148.51485149  49.5049505 ]\n"
     ]
    }
   ],
   "source": [
    "lam_i = np.linspace(6, 96, 10)\n",
    "print(lam_i)\n",
    "I_i = 10 * I(lam_i)\n",
    "print(I_i)"
   ]
  },
  {
   "cell_type": "markdown",
   "id": "f7b35fba-f802-46fb-a9ac-88cc7c9f5e6f",
   "metadata": {
    "tags": []
   },
   "source": [
    "We can plot our samples on top of our distribution so long as we are careful to remember that each sample must be plotted as a box of *area* $I_i$ not just as a point. The resulting figure is pretty obvious."
   ]
  },
  {
   "cell_type": "code",
   "execution_count": 14,
   "id": "d87cc5be-92fa-41e7-9a69-5a223e98453f",
   "metadata": {},
   "outputs": [
    {
     "data": {
      "text/plain": [
       "[<matplotlib.lines.Line2D at 0x7ff118608b80>]"
      ]
     },
     "execution_count": 14,
     "metadata": {},
     "output_type": "execute_result"
    },
    {
     "data": {
      "image/png": "[encoded data removed]",
      "text/plain": [
       "<Figure size 432x288 with 1 Axes>"
      ]
     },
     "metadata": {
      "needs_background": "light"
     },
     "output_type": "display_data"
    }
   ],
   "source": [
    "h_i = I_i / 10\n",
    "plt.bar(lam_i, h_i, width=10)\n",
    "plt.plot(lcont, Icont,'r')"
   ]
  },
  {
   "cell_type": "markdown",
   "id": "ed649e9d-d231-44a4-905a-8c47acd29001",
   "metadata": {},
   "source": [
    "It is a coincidental idiosyncracy of the linearity of the distribution that the centres of the sample regions coincide with the intersections of the boxes and line. But it is **vital** to bote that we were only able to generate the heights of the boxes by dividing each sample by the same constant because **the samples were uniformly distributed**.\n",
    "\n",
    "Note that, as expected, the sum of the samples gives us the total area under the curve.\n",
    "$$I_{1} = \\int_{1}^{101} 100 \\left( 1 - \\dfrac{\\lambda}{101} \\right) d\\lambda = 100 \\left[ \\lambda - \\dfrac{\\lambda{}^{2}}{202} \\right]_{1}^{101} = 100 \\left[ 101 - \\dfrac{10201}{202} \\right] - 100 \\left[ 1 - \\dfrac{1}{202} \\right]= 100 (100 - \\dfrac{10200}{202}) =100 (100 - 50.495)= 4950.459$$"
   ]
  },
  {
   "cell_type": "code",
   "execution_count": 15,
   "id": "2790ba70-82d3-49ee-b21e-422fe1944405",
   "metadata": {},
   "outputs": [
    {
     "name": "stdout",
     "output_type": "stream",
     "text": [
      "4950.49504950495\n"
     ]
    }
   ],
   "source": [
    "print(np.sum(I_i))"
   ]
  },
  {
   "cell_type": "markdown",
   "id": "6fed054f-f49a-4496-a5c3-4df158ba5dc2",
   "metadata": {},
   "source": [
    "Next we transform ourselves to velocity space. The transform has the form $v \\lambda{} = C$, where $C$ is some constant. To keep things simple, let us choose $C=101$ for our example. This will mean that the domain of $v$ will be between $v=101/1=101$ and $v=101/1=1$, making the domain $\\left[ 1, 101 \\right] $ again. Our samples are now seriously non-uniformly distributed across the range, being referenced to the points"
   ]
  },
  {
   "cell_type": "code",
   "execution_count": 16,
   "id": "9522a7d7-bd2e-4693-89a9-175a757bc9f5",
   "metadata": {
    "tags": []
   },
   "outputs": [
    {
     "name": "stdout",
     "output_type": "stream",
     "text": [
      "[16.83333333  6.3125      3.88461538  2.80555556  2.19565217  1.80357143\n",
      "  1.53030303  1.32894737  1.1744186   1.05208333]\n"
     ]
    }
   ],
   "source": [
    "v_i = 101/lam_i\n",
    "print(v_i)"
   ]
  },
  {
   "cell_type": "markdown",
   "id": "7023647f-0e6d-4120-85c6-525929685752",
   "metadata": {
    "tags": []
   },
   "source": [
    "As expected, the samples are also in reverse order, since a large lambda corresponds to a small v. In these terms our distribution now looks like this"
   ]
  },
  {
   "cell_type": "code",
   "execution_count": 17,
   "id": "90e428ac-f205-48f4-9d73-976519bb9d98",
   "metadata": {},
   "outputs": [
    {
     "data": {
      "text/plain": [
       "[<matplotlib.lines.Line2D at 0x7ff0985c9f40>]"
      ]
     },
     "execution_count": 17,
     "metadata": {},
     "output_type": "execute_result"
    },
    {
     "data": {
      "image/png": "[encoded data removed]",
      "text/plain": [
       "<Figure size 432x288 with 1 Axes>"
      ]
     },
     "metadata": {
      "needs_background": "light"
     },
     "output_type": "display_data"
    }
   ],
   "source": [
    "plt.plot(v_i, I_i, '.') "
   ]
  },
  {
   "cell_type": "markdown",
   "id": "6dab84b2-2b6a-416d-90d7-079011667f02",
   "metadata": {},
   "source": [
    "This, however, is not what the actual distribution looks like. For that we have to remember the meaning of these points. Each point represents the area under the actual curve. This time the samples are **not** uniformly distributed so that the actual disribution has a rather different shape."
   ]
  },
  {
   "cell_type": "code",
   "execution_count": 22,
   "id": "2cd0554f-57cc-4e73-8c90-8009eb94ed34",
   "metadata": {
    "tags": []
   },
   "outputs": [
    {
     "name": "stdout",
     "output_type": "stream",
     "text": [
      "[  1.  11.  21.  31.  41.  51.  61.  71.  81.  91. 101.]\n",
      "[101.           9.18181818   4.80952381   3.25806452   2.46341463\n",
      "   1.98039216   1.6557377    1.42253521   1.24691358   1.10989011\n",
      "   1.        ]\n",
      "[-91.81818182  -4.37229437  -1.55145929  -0.79464988  -0.48302248\n",
      "  -0.32465445  -0.23320249  -0.17562163  -0.13702347  -0.10989011]\n"
     ]
    },
    {
     "data": {
      "text/plain": [
       "[<matplotlib.lines.Line2D at 0x7ff09847f6d0>]"
      ]
     },
     "execution_count": 22,
     "metadata": {},
     "output_type": "execute_result"
    },
    {
     "data": {
      "image/png": "[encoded data removed]",
      "text/plain": [
       "<Figure size 432x288 with 1 Axes>"
      ]
     },
     "metadata": {
      "needs_background": "light"
     },
     "output_type": "display_data"
    }
   ],
   "source": [
    "l_bounds = np.linspace(1, 101, 11)\n",
    "print(l_bounds)\n",
    "v_bounds = 101/l_bounds\n",
    "print(v_bounds)\n",
    "v_widths = v_bounds[1:] - v_bounds[:-1]\n",
    "print(v_widths)\n",
    "Iv_i = I_i / v_widths\n",
    "plt.plot(v_i, Iv_i,'.')"
   ]
  },
  {
   "cell_type": "markdown",
   "id": "8c9f9356-ceba-413e-ad67-c1ad33b2ec15",
   "metadata": {},
   "source": [
    "Note that the minus sign is the result of the reversal of the order of the samples in v space.\n",
    "\n",
    "Note also that this transformation has preserved the total number of events since the sum of the I_i is constant.\n",
    "\n",
    "Now, let us compare this with what happens if we do the same transformation analytically. We start with a distribution $I(\\lambda) d\\lambda$:\n",
    "$$I(\\lambda) d\\lambda = 100 \\left( 1 - \\dfrac{\\lambda}{\\lambda_{0}} \\right) d \\lambda$$\n",
    "which we convert into the equivalent $I'(v)dv$ using the rule that their integrals over corresponding domains must be the same. That is, we require\n",
    "$$\\int_{\\lambda_{1}}^{\\lambda_{2}} I(\\lambda) d\\lambda = \\int_{v_1}^{v_2} I'(v) dv$$\n",
    "for all pairs $\\lambda_{1} v_{1} = \\lambda_{2} v_{2} = 101$ in the joint $\\left[ 1, 101 \\right]$ domain.\n",
    "\n",
    "We achieve that in the usual way by a transformation of variables $\\lambda = 101/v$, $d\\lambda = -\\dfrac{101}{v^2} dv$\n",
    "$$\\int_{\\lambda_{1}}^{\\lambda_{2}} 100 \\left( 1 - \\dfrac{\\lambda}{101} \\right) d \\lambda = -\\int_{\\lambda_{1}}^{\\lambda_{2}} 100 \\left( 1 - \\dfrac{1}{v} \\right) \\dfrac{101}{v^2} dv = \\int_{v_1}^{v_2} I'(v) dv$$\n",
    "so that\n",
    "$$I'(v)=10100 \\left( \\dfrac{1}{v^2} - \\dfrac{1}{v^3} \\right),$$\n",
    "which looks like this"
   ]
  },
  {
   "cell_type": "code",
   "execution_count": 28,
   "id": "7aa87bbd-bd20-426b-8b35-941924c176dc",
   "metadata": {
    "tags": []
   },
   "outputs": [
    {
     "data": {
      "text/plain": [
       "[<matplotlib.lines.Line2D at 0x7ff1088a98b0>]"
      ]
     },
     "execution_count": 28,
     "metadata": {},
     "output_type": "execute_result"
    },
    {
     "data": {
      "image/png": "[encoded data removed]",
      "text/plain": [
       "<Figure size 432x288 with 1 Axes>"
      ]
     },
     "metadata": {
      "needs_background": "light"
     },
     "output_type": "display_data"
    }
   ],
   "source": [
    "def Iv(v):\n",
    "    return 10100 * (1/v**2 - 1/v**3)\n",
    "\n",
    "vcont = np.linspace(1, 101, 1001)\n",
    "Ivcont = Iv(vcont)\n",
    "plt.plot(vcont, Ivcont)\n",
    "plt.plot(v_i, -Iv_i,'.')"
   ]
  },
  {
   "cell_type": "markdown",
   "id": "43a4059d-15fe-48a1-a7c4-1b9375a81f97",
   "metadata": {},
   "source": [
    "And that looks JUST like the distribution that we deduced from our samples. So we can correctly transform between the two domains both analytically and numerically.\n",
    "\n",
    "NOTE that the samples (the orange dots) do NOT lie exactly on the curve. That is the point that I made back at the beginning, that the dots represent the heights of rectangles which intersect the underlying continues curve at some point within the domain of the rectangle, but NOT at the point at which we think that the sample was taken (except in the boring case of a linear distribution)."
   ]
  },
  {
   "cell_type": "markdown",
   "id": "cd3b2986-fc47-4039-be3a-912209278909",
   "metadata": {
    "tags": []
   },
   "source": [
    "Applying this to the C1 correction integral\n",
    "-------------------------------------------\n",
    "\n",
    "The correction factor that we seek to evaluate is given in terms of an integral in velocity space.\n",
    "Here is the correction factor $c_1$ defined in equation 18 of Jeff Nico's BL1 paper which says (slightly re-arranged)\n",
    "$$c_1=\\dfrac{\\bar{\\rho}\\sigma_0 \\frac{N_A}{A} \\int_v \\frac{v_0}{v} I(v) dv}{\\int_v \\left( 1 - e^{-\\bar{\\rho}\\sigma_0 \\frac{N_A}{A} \\frac{v_0}{v}} \\right) I(v) dv}$$\n",
    "where\n",
    "* $\\bar\\rho=39.30\\mu\\mathrm{g/cm}^2$ is the deposit density\n",
    "* $\\sigma_0=941.0\\,\\mathrm{b}$ is the reference absoption cross section\n",
    "* $N_A=6.02214076\\times{}10^{23}\\,\\mathrm{mol}^{−1}$ is Avogadro's number in atoms/mol\n",
    "* $A = 6.01512 \\mathrm{g/mol}$ is the areal density of $^6$Li\n",
    "* $v_0 = 2200\\,\\mathrm{m/s}$ is the reference speed for the cross-section\n",
    "\n",
    "For simplicity, I am going to define the dimensionless constant $C_0 = \\bar{\\rho}\\sigma_0 \\frac{N_A}{A}$ so that I can write\n",
    "$$c_1=\\dfrac{C_0 \\int_v \\frac{v_0}{v} I(v) dv}{\\int_v \\left( 1 - e^{-C_0 \\frac{v_0}{v}} \\right) I(v) dv}$$\n",
    "\n",
    "I also introduce the constant $k_n$ that transforms between lambda and velocity\n",
    "$$v\\lambda= k_n = hc^2/mc^2=\\dfrac{12,398.4 * 299792458}{939,565,421}=3956 A\\cdot{}m/s$$"
   ]
  },
  {
   "cell_type": "code",
   "execution_count": 55,
   "id": "2c64af52-5717-4098-b61d-ca7763ac697e",
   "metadata": {},
   "outputs": [
    {
     "name": "stdout",
     "output_type": "stream",
     "text": [
      "C0 = 0.0037024464031937517\n",
      "kn = 3956.0276785316046\n"
     ]
    }
   ],
   "source": [
    "rho=39.3E-6/1e-4\n",
    "sigma=941E-28\n",
    "NA=6.02214076E23\n",
    "A=6.01512\n",
    "C0=rho*sigma*NA/A\n",
    "print('C0 =', C0)\n",
    "\n",
    "kn = 12398.4 * 299792458 / 939565421\n",
    "print('kn =', kn)"
   ]
  },
  {
   "cell_type": "markdown",
   "id": "cc337a87-c8f2-4376-9911-ae7391330694",
   "metadata": {},
   "source": [
    "Now, the spectrum that we want to use for this integral is given to us in $\\lambda$ space. Here is the spectrum from Scott."
   ]
  },
  {
   "cell_type": "code",
   "execution_count": 34,
   "id": "2b4edd53-768e-4b27-b276-606aa9810937",
   "metadata": {
    "tags": []
   },
   "outputs": [
    {
     "name": "stdout",
     "output_type": "stream",
     "text": [
      "1001 0.1 35.0\n"
     ]
    },
    {
     "data": {
      "image/png": "[encoded data removed]",
      "text/plain": [
       "<Figure size 864x288 with 1 Axes>"
      ]
     },
     "metadata": {
      "needs_background": "light"
     },
     "output_type": "display_data"
    }
   ],
   "source": [
    "S6dat = np.loadtxt('NG6Data/ScottBL1flux.txt', delimiter=',')\n",
    "S6lambda = S6dat[:,0]\n",
    "S6inten = S6dat[:,1]\n",
    "plt.figure(figsize=(12,4))\n",
    "plt.plot(S6lambda, S6inten, 'k.', markersize=1)\n",
    "print(len(S6inten), S6lambda[0], S6lambda[-1])"
   ]
  },
  {
   "cell_type": "markdown",
   "id": "9a9e7e73-dad2-4d3d-8eb1-b384253f649d",
   "metadata": {
    "tags": []
   },
   "source": [
    "Remember that this is a *scaled* version of the distribution. These are counts per bin. The distribution should be counts per Angstrom. We can get the distribution by dividing by the in width, but that does not alter the picture because it is a constant. It *does* alter the values of the C1 integrals, but **not** their ratio, so we don't bother.\n",
    "\n",
    "\n",
    "This is a spectrum that is uniformly sampled in lambda space. The sampling is quite fine. There are 1001 samples over the domain $\\left[ 0.1, 35 \\right]$ Angstroms. This means that the points (which are the resul|t of binning neutrons from a Monte-Carlo simulation) are extremely close to the underlying distribution; the (horizontal) discretization error is small. It should be noted that there is also a vertical error associated with the Poisson noise in the sample. Over the majority of the sample this is small (at the 0.1% level), but in the tail it becomes quite significant. For example at ~20 and ~30 Angstroms we have"
   ]
  },
  {
   "cell_type": "code",
   "execution_count": 36,
   "id": "f8b460d8-0b39-463a-bc27-042fd342fd50",
   "metadata": {},
   "outputs": [
    {
     "name": "stdout",
     "output_type": "stream",
     "text": [
      "20.0279 6322.109148 79.51169189496599 0.012576766714019725\n",
      "30.0093 505.9574371 22.49349766265798 0.04445729228052092\n"
     ]
    }
   ],
   "source": [
    "print(S6lambda[571], S6inten[571], np.sqrt(S6inten[571]), np.sqrt(S6inten[571])/S6inten[571])\n",
    "print(S6lambda[857], S6inten[857], np.sqrt(S6inten[857]), np.sqrt(S6inten[857])/S6inten[857])"
   ]
  },
  {
   "cell_type": "markdown",
   "id": "d2aa0a56-4fc2-49eb-8a49-aea5432a32a5",
   "metadata": {},
   "source": [
    "so that the error gets to be nearly 5%. However, the weight out in the tail is so low that this is probably not a major source of worry, merely something that we need to think about later.\n",
    "\n",
    "The Velocity Spectrum\n",
    "---------------------\n",
    "\n",
    "With the exception of the first and last samples (which present some difficulties in interpretation), we can find the bounds of the lambda space samples either by interpolating the mid-points or using the constand half-width. Let's look at tht half width."
   ]
  },
  {
   "cell_type": "code",
   "execution_count": 41,
   "id": "ff82ca93-4dfa-4010-992b-2b5bffbd8cf3",
   "metadata": {},
   "outputs": [
    {
     "name": "stdout",
     "output_type": "stream",
     "text": [
      "0.03489999999999999 0.034900000000000375\n"
     ]
    }
   ],
   "source": [
    "print(S6lambda[1]-S6lambda[0], S6lambda[-1]-S6lambda[-2])"
   ]
  },
  {
   "cell_type": "markdown",
   "id": "fee85836-1394-437f-baed-a98e251ab585",
   "metadata": {},
   "source": [
    "Very nice. So, let us use that constant half-width to solve the problems at the edges and create an array of boundaries."
   ]
  },
  {
   "cell_type": "code",
   "execution_count": 45,
   "id": "da09b8cb-b582-4092-9631-e02ee96bcf03",
   "metadata": {},
   "outputs": [
    {
     "name": "stdout",
     "output_type": "stream",
     "text": [
      "34.98255 35.01745\n"
     ]
    }
   ],
   "source": [
    "half_width = np.average(S6lambda[1:]-S6lambda[:-1])/2\n",
    "left_edges = S6lambda - half_width\n",
    "edges = np.append(left_edges, S6lambda[-1]+half_width)\n",
    "print(edges[-2], edges[-1])"
   ]
  },
  {
   "cell_type": "markdown",
   "id": "88789798-b153-4f9a-81b8-fd672682d1e0",
   "metadata": {},
   "source": [
    "Next we create an array of velocity boundaries."
   ]
  },
  {
   "cell_type": "code",
   "execution_count": 48,
   "id": "bdfd4e07-d2c6-4cda-a14e-cd3435a61579",
   "metadata": {},
   "outputs": [
    {
     "data": {
      "text/plain": [
       "[<matplotlib.lines.Line2D at 0x7ff098a6ebe0>]"
      ]
     },
     "execution_count": 48,
     "metadata": {},
     "output_type": "execute_result"
    },
    {
     "data": {
      "image/png": "[encoded data removed]",
      "text/plain": [
       "<Figure size 864x288 with 1 Axes>"
      ]
     },
     "metadata": {
      "needs_background": "light"
     },
     "output_type": "display_data"
    }
   ],
   "source": [
    "v_edges = kn /edges\n",
    "plt.figure(figsize=(12,4))\n",
    "plt.plot(v_edges, '.')"
   ]
  },
  {
   "cell_type": "markdown",
   "id": "0ac841a0-6f34-49ca-9269-2ee14ca866c2",
   "metadata": {},
   "source": [
    "So we see speeds from 50 km/s (corresponding to slightly less than 0.1 A) out to about 100 m/s.\n",
    "\n",
    "Now we form the differences that tell us the widths of the regions and also generate the mid-points of the regions in velocity space to use as the interpolation points for the new distribution sample points.\n",
    "\n",
    "Once we have the widths we divide the intensity values by those widths to generate the velocity distribution function. We are still actually off by a factor of the constant width of the wavelength samples but, as pointed out above, that will scale away when we form the ratio of integrals in C1."
   ]
  },
  {
   "cell_type": "code",
   "execution_count": 50,
   "id": "f220bfe5-e35f-4555-a37e-7aff1ff6dd82",
   "metadata": {},
   "outputs": [
    {
     "data": {
      "text/plain": [
       "[<matplotlib.lines.Line2D at 0x7ff0e84077f0>]"
      ]
     },
     "execution_count": 50,
     "metadata": {},
     "output_type": "execute_result"
    },
    {
     "data": {
      "image/png": "[encoded data removed]",
      "text/plain": [
       "<Figure size 864x288 with 1 Axes>"
      ]
     },
     "metadata": {
      "needs_background": "light"
     },
     "output_type": "display_data"
    }
   ],
   "source": [
    "v_widths = v_edges[1:] - v_edges[:-1]\n",
    "S6Vvels = 0.5 * (v_edges[1:] + v_edges[:-1])\n",
    "S6Vintens = -S6inten/v_widths\n",
    "plt.figure(figsize=(12,4))\n",
    "plt.plot(S6Vvels, S6Vintens, '.')"
   ]
  },
  {
   "cell_type": "markdown",
   "id": "bf8bc53d-3054-42e1-a2c4-0d7fc8a487fe",
   "metadata": {},
   "source": [
    "Consistency Checks 1\n",
    "--------------------\n",
    "\n",
    "If we have done this correctly, then the sum of the samples, the integral over the properly scaled intensity as a function of wavelength, and the integral over the intensity as a function of velocity should all yield the same value."
   ]
  },
  {
   "cell_type": "code",
   "execution_count": 51,
   "id": "217b5041-559c-46df-9ed5-1517cad94996",
   "metadata": {},
   "outputs": [
    {
     "name": "stdout",
     "output_type": "stream",
     "text": [
      "541660741.0176805\n"
     ]
    }
   ],
   "source": [
    "raw_sum = np.sum(S6inten)\n",
    "print(raw_sum)"
   ]
  },
  {
   "cell_type": "code",
   "execution_count": 52,
   "id": "f151984e-fc67-4c9f-bab7-3f16c3dde8e8",
   "metadata": {},
   "outputs": [
    {
     "name": "stdout",
     "output_type": "stream",
     "text": [
      "541692402.230877\n"
     ]
    }
   ],
   "source": [
    "from scipy.integrate import simps\n",
    "S6Iscaled = S6inten / (2 * half_width)\n",
    "int_lambda = simps(S6Iscaled, S6lambda)\n",
    "print(int_lambda)"
   ]
  },
  {
   "cell_type": "code",
   "execution_count": 53,
   "id": "9e9b03de-ca17-409d-8018-8a84c234b72b",
   "metadata": {},
   "outputs": [
    {
     "name": "stdout",
     "output_type": "stream",
     "text": [
      "-541725928.1535019\n"
     ]
    }
   ],
   "source": [
    "int_vel = simps(S6Vintens, S6Vvels)\n",
    "print(int_vel)"
   ]
  },
  {
   "cell_type": "markdown",
   "id": "a66b7edc-593e-498b-ab33-4fa0438ec625",
   "metadata": {},
   "source": [
    "And, other than a sign change due to the reversal of the velocity axis, we get the same answer to within discretization error. We note that that error is at the 0.01% level and so not really a problem. However, it does tell us the rough level to which we can believe our values.\n",
    "\n",
    "This appears to confirm our consistency at the 0.01% level.\n",
    "\n",
    "Doing the C1 integral\n",
    "---------------------\n",
    "\n",
    "Now that we have the intensity distribution in velocity space we can do the C1 integrals in that space, where they are defined. There are no Jacobians needed because all of our variables are in the same space (careful study shows that the Jacobian is precisely what we used to transform from one space to the other).\n",
    "\n",
    "Let's start with the numerator.\n",
    "$$num=C_0 \\int_v \\frac{v_0}{v} I(v) dv$$"
   ]
  },
  {
   "cell_type": "code",
   "execution_count": 57,
   "id": "d4abfd50-6896-4147-a86d-ef459c459df0",
   "metadata": {},
   "outputs": [
    {
     "name": "stdout",
     "output_type": "stream",
     "text": [
      "-5077379.0837459415\n"
     ]
    }
   ],
   "source": [
    "v_ratio = 2200/S6Vvels\n",
    "num = C0 * simps(v_ratio * S6Vintens, S6Vvels)\n",
    "print(num)"
   ]
  },
  {
   "cell_type": "markdown",
   "id": "36f9d188-50d6-41de-99f9-1cdb5ebf3bf5",
   "metadata": {},
   "source": [
    "Then the denominator\n",
    "$$denom = \\int_v \\left( 1 - e^{-C_0 \\frac{v_0}{v}} \\right) I(v) dv$$"
   ]
  },
  {
   "cell_type": "code",
   "execution_count": 58,
   "id": "8ac728a1-f51e-424d-862a-84742bdfc3b3",
   "metadata": {},
   "outputs": [
    {
     "name": "stdout",
     "output_type": "stream",
     "text": [
      "-5046769.217084667\n"
     ]
    }
   ],
   "source": [
    "vfactor = 1 - np.exp(-C0 * v_ratio)\n",
    "denom = simps(vfactor * S6Vintens, S6Vvels)\n",
    "print(denom)"
   ]
  },
  {
   "cell_type": "code",
   "execution_count": 59,
   "id": "93b80413-fae5-4431-8e67-ceb442735c8a",
   "metadata": {},
   "outputs": [
    {
     "name": "stdout",
     "output_type": "stream",
     "text": [
      "1.0060652400267585\n",
      "5.375622235716019 s\n"
     ]
    }
   ],
   "source": [
    "c_1 = num/denom\n",
    "print(c_1)\n",
    "print(886.3 * (c_1 -1),'s')"
   ]
  },
  {
   "cell_type": "markdown",
   "id": "4bf52409-5654-4b55-818f-e14cfbfd14e3",
   "metadata": {},
   "source": [
    "Fascinating! So now I get the 5 second value! \n",
    "Well, so what is different???"
   ]
  },
  {
   "cell_type": "markdown",
   "id": "8684cc95-ee66-49bf-981c-31fa77f0f40a",
   "metadata": {},
   "source": [
    "And this still isn't what Scott's MathCAD worksheet showed him doing. Check that result.\n",
    "\n",
    "I believe that what he did was to use $\\dfrac{v_0}{v} = \\dfrac{\\lambda}{\\lambda_{0}}$ to compute\n",
    "$$Snum = \\sum_i C_0 \\dfrac{\\lambda}{\\lambda_{0}} I_{\\lambda{} i}$$\n",
    "and\n",
    "$$Sdenom = \\sum_i \\left[ 1 - \\exp(-C_0 \\dfrac{\\lambda}{\\lambda_{0}}) \\right] I_{\\lambda{} i}$$"
   ]
  },
  {
   "cell_type": "code",
   "execution_count": 60,
   "id": "691f47f5-5f54-4f6b-9883-f3eb30b77fa5",
   "metadata": {},
   "outputs": [
    {
     "name": "stdout",
     "output_type": "stream",
     "text": [
      "1.7981943993325475\n",
      "5077074.7211202\n"
     ]
    }
   ],
   "source": [
    "lambda0 = kn / 2200\n",
    "print(lambda0)\n",
    "lam_ratio = S6lambda / lambda0\n",
    "s_num = np.sum( C0 * lam_ratio * S6inten)\n",
    "print(s_num)"
   ]
  },
  {
   "cell_type": "code",
   "execution_count": 61,
   "id": "b752ac73-4569-4879-8359-14fbcaa47c2d",
   "metadata": {},
   "outputs": [
    {
     "name": "stdout",
     "output_type": "stream",
     "text": [
      "5046465.413796085\n",
      "1.0060654943240936\n",
      "5.3758476194441975 s\n"
     ]
    }
   ],
   "source": [
    "lam_factor = 1 - np.exp(-C0 * lam_ratio)\n",
    "s_denom = np.sum( lam_factor * S6inten)\n",
    "print(s_denom)\n",
    "Sc_1 = s_num/s_denom\n",
    "print(Sc_1)\n",
    "print(886.3 * (Sc_1 -1),'s')"
   ]
  },
  {
   "cell_type": "markdown",
   "id": "5749e19d-2b6d-4708-ab7d-fb2a1b945d20",
   "metadata": {},
   "source": [
    "OK, so I see WHAT happens, but I am blowed if I can see WHY it happens and what went wrong before."
   ]
  },
  {
   "cell_type": "code",
   "execution_count": null,
   "id": "f6495d44-72c6-4939-a0cb-bebb6d41a984",
   "metadata": {},
   "outputs": [],
   "source": []
  }
 ],
 "metadata": {
  "kernelspec": {
   "display_name": "Python 3 (ipykernel)",
   "language": "python",
   "name": "python3"
  },
  "language_info": {
   "codemirror_mode": {
    "name": "ipython",
    "version": 3
   },
   "file_extension": ".py",
   "mimetype": "text/x-python",
   "name": "python",
   "nbconvert_exporter": "python",
   "pygments_lexer": "ipython3",
   "version": "3.9.7"
  }
 },
 "nbformat": 4,
 "nbformat_minor": 5
}
