{
 "cells": [
  {
   "cell_type": "markdown",
   "id": "b3c48ad6-2391-49ab-9b03-2a9d2772be11",
   "metadata": {},
   "source": [
    "Numeric vs. Algebraic Integration\n",
    "=================================\n",
    "\n",
    "Gordon raises the idea that we must find the same total number of neutrons in a spectrum whether we do the integral in wavelength or in velocity space. This means that the translation from one space to another has to be done with particular care when you do it numerically. Let's start with a simple algebraic example to see what happens when we go from one space to the other.\n",
    "\n",
    "Start with a Maxwell-Boltzman distribution\n",
    "\n",
    "$$f(v)dv = \\left( \\dfrac{m}{2\\pi{}k_{B}T} \\right)^\\frac{3}{2} v^{2} e^{-\\dfrac{mv^{2}}{2k_{B}T}}$$"
   ]
  },
  {
   "cell_type": "markdown",
   "id": "3aeaa5fe-e0fc-4a95-a2b2-aa5a5826e5ac",
   "metadata": {},
   "source": [
    "This is given as a probablility density so its integral over all space should be 1. Let's check.\n",
    "\n",
    "Writing $a=\\sqrt{k_{B}T/m}$ we can write the integral as\n",
    "$$\\int_{v=0}^{\\infty} \\sqrt{\\dfrac{2}{\\pi{}a^{3}}} v^{2} e^{-\\dfrac{v^{2}}{2a^{2}}} dv$$ "
   ]
  },
  {
   "cell_type": "markdown",
   "id": "c3808e9f-8403-4059-9dd9-826c0f593c15",
   "metadata": {},
   "source": [
    "I need Mathematica"
   ]
  },
  {
   "cell_type": "markdown",
   "id": "5e0e9d95-190d-44ed-9558-7f0787f645bf",
   "metadata": {},
   "source": [
    "When we go to the discrete domain then we have to think quite carefully about what a discrete representation means. We started with a dataset $\\left\\{ \\lambda{}_{i} ,I_{\\lambda{}i} \\right\\}$ where each value represented the actual number of neutrons found in some small range $\\delta{}\\lambda$ of a mid value that . Each number in some sense encodes both the height and the width of the range. In fact, we have\n",
    "$$I_{\\lambda{}i} = \\int_{0.5 ( \\lambda{}_{i} + \\lambda{}_{i-1})}^{0.5 ( \\lambda{}_{i+1} + \\lambda{}_{i})} I(\\lambda) d\\lambda$$"
   ]
  },
  {
   "cell_type": "markdown",
   "id": "aceb719c-1d88-46cd-8dc0-6c35822b39f6",
   "metadata": {},
   "source": [
    "Because of this we get the following simple relation\n",
    "$$\\int_{\\lambda} I(\\lambda) d\\lambda = \\sum_{i} I_{\\lambda{}i}$$"
   ]
  },
  {
   "cell_type": "markdown",
   "id": "76e4a3d0-62d7-4fd3-9598-253ba2a5829d",
   "metadata": {},
   "source": [
    "Now, if we translate to velocity space by converting the $\\lambda({i}$ to $v_{i}$ using\n",
    "$$v_{i} = \\dfrac{h}{m \\lambda({i}}$$\n",
    "then we end up with a new data set $\\left\\{ v_{i} ,I_{vi} \\right\\}$ where the Is are the same numbers but now have a different meaning. $I_{vi}$ means the number of neutron with *velocities* in some range of $v_{i}$, in fact\n",
    "$$I_{vi} = \\int_{0.5 ( v_{i} + v_{i-1})}^{0.5 ( v_{i+1} + v_{i})} I(v) dv$$"
   ]
  },
  {
   "cell_type": "markdown",
   "id": "22934dd5-0391-48c4-abb4-a03d48c8e905",
   "metadata": {},
   "source": [
    "This means that we again have the simple relation\n",
    "$$\\int_{v} I(v) dv = \\sum_{i} I_{vi}$$\n",
    "which makes total sense since the number of neutrons must be the same whether you think of them as being grouped in $\\lambda$ space or in $v$ space."
   ]
  },
  {
   "cell_type": "markdown",
   "id": "cd3b2986-fc47-4039-be3a-912209278909",
   "metadata": {},
   "source": [
    "The Dilemma\n",
    "-----------\n",
    "\n",
    "The confusion arises because one naively thinks of the discrete datasets as being samples of the underlying functions. That is, one imagines that\n",
    "$$I_{\\lambda{}i}=I(\\lambda_{i})$$\n",
    "and \n",
    "$$I_{vi}=I(v_{i})$$\n",
    "so that $I_{\\lambda{}i}\\ne{}I_{vi}$ since $I(\\lambda_{i})\\ne{}I(v_{i})$"
   ]
  },
  {
   "cell_type": "markdown",
   "id": "cc337a87-c8f2-4376-9911-ae7391330694",
   "metadata": {},
   "source": [
    "However, we have just shown that for our datasets $\\left\\{ \\lambda{}_{i} ,I_{\\lambda{}i} \\right\\}$ and $\\left\\{ v_{i} ,I_{vi} \\right\\}$ differ in the values of $\\lambda{}_{i}$ and $v_{i}$ *not* the values of $I_{\\lambda{}i}$ and $v_{i}$. Thus our values are *not* simple samples of the appropriate distributions, rather they are themselves sub-integrals of those distributions."
   ]
  },
  {
   "cell_type": "markdown",
   "id": "a263d148-3c62-43e5-bfff-c6ecd28fd525",
   "metadata": {},
   "source": [
    "Maybe what we need to do is to do the transform in a different way and see if it makes a difference. I put the Jacobian into the integral. Maybe it would be clearer if instead we looked at doing the transform in the same way that we would do in algebra, creating a new set $\\left\\{ v_{i} ,I'_{vi} \\right\\}$ where the $I'$ values can be treated as samples of the appropriate $v$ distribution."
   ]
  },
  {
   "cell_type": "code",
   "execution_count": null,
   "id": "a6b37402-bb72-41d0-a39e-30bd4595e906",
   "metadata": {},
   "outputs": [],
   "source": []
  }
 ],
 "metadata": {
  "kernelspec": {
   "display_name": "Python 3 (ipykernel)",
   "language": "python",
   "name": "python3"
  },
  "language_info": {
   "codemirror_mode": {
    "name": "ipython",
    "version": 3
   },
   "file_extension": ".py",
   "mimetype": "text/x-python",
   "name": "python",
   "nbconvert_exporter": "python",
   "pygments_lexer": "ipython3",
   "version": "3.9.7"
  }
 },
 "nbformat": 4,
 "nbformat_minor": 5
}
