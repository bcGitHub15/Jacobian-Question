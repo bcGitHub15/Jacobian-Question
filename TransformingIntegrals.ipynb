{
 "cells": [
  {
   "cell_type": "markdown",
   "id": "3ace389a-ca09-4415-8a2b-4237f28e17cb",
   "metadata": {},
   "source": [
    "Exploring transforming integrals some more\n",
    "==========================================\n",
    "\n",
    "OK, so we talked to Scott and confused ourselves still further. Let's look at a simple example in both the algebraic and numeric domain.\n",
    "\n",
    "Have to start with some tools."
   ]
  },
  {
   "cell_type": "code",
   "execution_count": 5,
   "id": "5dd47823-e78b-4cf7-b55e-5674838fceee",
   "metadata": {},
   "outputs": [],
   "source": [
    "import numpy as np\n",
    "import matplotlib.pyplot as plt\n",
    "from scipy.integrate import simps, trapz"
   ]
  },
  {
   "cell_type": "markdown",
   "id": "c43e2d90-078d-4634-946c-b5a5766eb43e",
   "metadata": {},
   "source": [
    "Then let's start with the function\n",
    "$$f(x)=e^{-(x-2)^{2}}$$\n",
    "over the domain $0\\rightarrow{}4$.\n",
    "This is a simple quadratic hump that looks like this."
   ]
  },
  {
   "cell_type": "code",
   "execution_count": 4,
   "id": "a7b70540-1aa8-4f3e-8393-ff9bbbdc5dbd",
   "metadata": {},
   "outputs": [
    {
     "data": {
      "text/plain": [
       "[<matplotlib.lines.Line2D at 0x7fde284d8cd0>]"
      ]
     },
     "execution_count": 4,
     "metadata": {},
     "output_type": "execute_result"
    },
    {
     "data": {
      "image/png": "[encoded data removed]",
      "text/plain": [
       "<Figure size 432x288 with 1 Axes>"
      ]
     },
     "metadata": {
      "needs_background": "light"
     },
     "output_type": "display_data"
    }
   ],
   "source": [
    "def f(x):\n",
    "    return np.exp(-(x - 2)**2)\n",
    "\n",
    "xv = np.linspace(0, 4, 1001)\n",
    "fv = f(xv)\n",
    "plt.plot(xv, fv)"
   ]
  },
  {
   "cell_type": "markdown",
   "id": "ded28ae8-838f-4f14-bf17-654a8e50fa57",
   "metadata": {},
   "source": [
    "We can evaluate the area under that curve using Mathematica to get $\\sqrt{\\pi} \\mathrm{erf}(2) = 1.76416$ or we can integrate it numerically"
   ]
  },
  {
   "cell_type": "code",
   "execution_count": 6,
   "id": "52baac45-8962-437e-8691-d5df9f10e0f7",
   "metadata": {},
   "outputs": [
    {
     "name": "stdout",
     "output_type": "stream",
     "text": [
      "1.7641627815227596\n"
     ]
    }
   ],
   "source": [
    "print(simps(fv, xv))"
   ]
  },
  {
   "cell_type": "markdown",
   "id": "8141f10c-272e-4761-b237-2a0ac32a9009",
   "metadata": {},
   "source": [
    "So far so good.\n",
    "\n",
    "Now we transform ourselves into a reciprocal space with the transform $z=\\frac{1}{x}$ with Jacobian $\\frac{dz}{dx}=\\frac{-1}{x^{2}}=-z^{2}$. This gives us the new function\n",
    "$$f'(z)=\\dfrac{f(x)}{\\frac{dz}{dx}}=\\frac{-1}{z^{2}} f(x) = \\frac{-1}{z^{2}} e^{-(x-2)^{2}}$$\n",
    "with the new domain $\\infty{} \\rightarrow{} 0.25$."
   ]
  },
  {
   "cell_type": "markdown",
   "id": "bdf3b72b-979f-4d2e-a70e-1d06d15d9a86",
   "metadata": {},
   "source": [
    "Integrating this function over its correct domain gives us\n",
    "$$\\int_{\\infty{}}^{0.25} \\frac{-1}{z^{2}} e^{-(x-2)^{2}} dz = \\int_{0.25}^{\\infty{}} \\frac{1}{z^{2}} e^{-(x-2)^{2}} dz =\\sqrt{\\pi} \\mathrm{erf}(2) = 1.76416,$$\n",
    "exactly as before.\n",
    "\n",
    "Note that the Jacobian occurs exactly once as it transforms the function $f(x)$ into the corresponding $f'(z)$.\n",
    "\n",
    "We can plot the new function"
   ]
  },
  {
   "cell_type": "code",
   "execution_count": 10,
   "id": "8a579fee-9244-47cb-9a98-d475a8090107",
   "metadata": {},
   "outputs": [
    {
     "data": {
      "text/plain": [
       "[<matplotlib.lines.Line2D at 0x7fde809c3220>]"
      ]
     },
     "execution_count": 10,
     "metadata": {},
     "output_type": "execute_result"
    },
    {
     "data": {
      "image/png": "[encoded data removed]",
      "text/plain": [
       "<Figure size 432x288 with 1 Axes>"
      ]
     },
     "metadata": {
      "needs_background": "light"
     },
     "output_type": "display_data"
    }
   ],
   "source": [
    "def fp(x):\n",
    "    return -np.exp(-(1/x - 2)**2)/x**2\n",
    "\n",
    "zv = 1/xv[1:]\n",
    "fpv = fp(zv)\n",
    "plt.plot(zv, fpv)"
   ]
  },
  {
   "cell_type": "markdown",
   "id": "ff27ba73-4379-4f46-bac9-54e2c3a6b1df",
   "metadata": {},
   "source": [
    "Note that I had to exclude the point at $x=0$ in order to avoid a divide by error. It truncates the function on the right. Doing the same numerical integral I get"
   ]
  },
  {
   "cell_type": "code",
   "execution_count": 11,
   "id": "3fa6e8f7-aa39-4e0e-91e4-c729655a0bce",
   "metadata": {},
   "outputs": [
    {
     "name": "stdout",
     "output_type": "stream",
     "text": [
      "1.7640769833115737\n"
     ]
    }
   ],
   "source": [
    "print(simps(fpv, zv))"
   ]
  },
  {
   "cell_type": "markdown",
   "id": "a54fec1d-8f97-49bc-bfd5-b8283f57d175",
   "metadata": {},
   "source": [
    "So the result agrees to within rounding error. It looks a little wierd because everything is back-to-front and upside down but this is only to get the signs right when the order of integration is considered.\n",
    "\n",
    "This appears to confirm the \"put the Jacobian only once\" rule."
   ]
  },
  {
   "cell_type": "markdown",
   "id": "2990a440-2901-4d78-acca-717ac20f4d3d",
   "metadata": {},
   "source": [
    "We can see how the numerical distribution values are related if we transform the $f'(z)$ values back into the x domain."
   ]
  },
  {
   "cell_type": "code",
   "execution_count": 14,
   "id": "016093af-938f-4c92-a7d0-e818f54adf78",
   "metadata": {},
   "outputs": [
    {
     "data": {
      "text/plain": [
       "[<matplotlib.lines.Line2D at 0x7fde808efdc0>]"
      ]
     },
     "execution_count": 14,
     "metadata": {},
     "output_type": "execute_result"
    },
    {
     "data": {
      "image/png": "[encoded data removed]",
      "text/plain": [
       "<Figure size 432x288 with 1 Axes>"
      ]
     },
     "metadata": {
      "needs_background": "light"
     },
     "output_type": "display_data"
    }
   ],
   "source": [
    "plt.plot(xv, fv)\n",
    "plt.plot(xv[1:], -fpv / xv[1:]**2, '.')"
   ]
  },
  {
   "cell_type": "markdown",
   "id": "82719c47-501c-481f-8670-2b8b994eb42c",
   "metadata": {},
   "source": [
    "and so the transformed values lie exactly over the top of the original values."
   ]
  },
  {
   "cell_type": "markdown",
   "id": "0b44ec8b-db84-465a-8a25-029b86f9d416",
   "metadata": {},
   "source": [
    "Averages\n",
    "--------\n",
    "\n",
    "The next thing I want to look at it the issue of using these distributions to compute averages. For this I will use only the numeric form as that corresponds most closely to what we have all been doing. Let's start with the simple average value of x. By definition\n",
    "$$\\left< x \\right>_{x} = \\dfrac{\\int x f(x) dx}{\\int f(x) dx}$$\n",
    "where both integrals are over the domain of the distribuition, $0\\rightarrow{}4$ for us.\n",
    "\n",
    "This is very easy to evaluate in the x domain."
   ]
  },
  {
   "cell_type": "code",
   "execution_count": 15,
   "id": "de4ae36a-1a80-470c-966c-a660870020b5",
   "metadata": {},
   "outputs": [
    {
     "name": "stdout",
     "output_type": "stream",
     "text": [
      "3.528325563045519 1.7641627815227596 1.9999999999999998\n"
     ]
    }
   ],
   "source": [
    "xnum = simps(xv * fv, xv)\n",
    "xdenom = simps(fv, xv)\n",
    "print(xnum, xdenom, xnum/xdenom)"
   ]
  },
  {
   "cell_type": "markdown",
   "id": "979c60bd-cec2-4407-97f3-6b098d889a80",
   "metadata": {},
   "source": [
    "Not terribly surprsingly, the average is 2.\n",
    "\n",
    "Now, to evaluate this in the z domain we have to make use of the fact that $x = 1/z$ so that\n",
    "$$\\left< x \\right>_{z} = \\dfrac{\\int \\dfrac{f(z)}{z} dz}{\\int f(z) dz}$$\n",
    "and the domain is the inverted one of $\\infty{} \\rightarrow{} 0.25$."
   ]
  },
  {
   "cell_type": "code",
   "execution_count": 16,
   "id": "887c689b-0a89-4f72-ba7e-d4d256c80527",
   "metadata": {},
   "outputs": [
    {
     "name": "stdout",
     "output_type": "stream",
     "text": [
      "3.5283250628132774 1.7640769833115737 2.00009698907233\n"
     ]
    }
   ],
   "source": [
    "znum = simps(fpv/zv, zv)\n",
    "zdenom = simps(fpv, zv)\n",
    "print(znum, zdenom, znum/zdenom)"
   ]
  },
  {
   "cell_type": "markdown",
   "id": "e056706b-a0e9-4871-bc26-d883699f34e1",
   "metadata": {},
   "source": [
    "So that we do indeed get the same answer by either method if use the correct form for $x$ and use the correct intensity data set.\n",
    "\n",
    "It works if find the average of z too, so long as we exclude that pesky point at 0."
   ]
  },
  {
   "cell_type": "code",
   "execution_count": 18,
   "id": "5662fb8d-1959-4c89-8a2b-76ca34499692",
   "metadata": {},
   "outputs": [
    {
     "name": "stdout",
     "output_type": "stream",
     "text": [
      "1.1317732642756826 1.7640889315070567 0.6415624768467946\n",
      "1.1309653620472264 1.7640769833115737 0.6411088477126136\n"
     ]
    }
   ],
   "source": [
    "xnum1 = simps(fv[1:]/xv[1:], xv[1:])\n",
    "xdenom1 = simps(fv[1:], xv[1:])\n",
    "print(xnum1, xdenom1, xnum1/xdenom1)\n",
    "znum1 = simps(zv*fpv, zv)\n",
    "zdenom1 = simps(fpv, zv)\n",
    "print(znum1, zdenom1, znum1/zdenom1)"
   ]
  },
  {
   "cell_type": "markdown",
   "id": "d1399cbe-6eaf-43ad-8a13-64de8f269040",
   "metadata": {},
   "source": [
    "Note that, as a side-result, we have learned what happens when we use the wrong distribution for the form of the variable as $\\left< x \\right>_{z} \\ne \\left< z \\right>_{x}$."
   ]
  },
  {
   "cell_type": "code",
   "execution_count": null,
   "id": "a306cd77-571b-4c01-981e-f49bded127c4",
   "metadata": {},
   "outputs": [],
   "source": []
  }
 ],
 "metadata": {
  "kernelspec": {
   "display_name": "Python 3 (ipykernel)",
   "language": "python",
   "name": "python3"
  },
  "language_info": {
   "codemirror_mode": {
    "name": "ipython",
    "version": 3
   },
   "file_extension": ".py",
   "mimetype": "text/x-python",
   "name": "python",
   "nbconvert_exporter": "python",
   "pygments_lexer": "ipython3",
   "version": "3.9.7"
  }
 },
 "nbformat": 4,
 "nbformat_minor": 5
}
