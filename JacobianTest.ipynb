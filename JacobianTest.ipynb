{
 "cells": [
  {
   "cell_type": "markdown",
   "id": "71342b64-803f-4c53-b74a-b146643dca9c",
   "metadata": {},
   "source": [
    "Jacobian test with various spectra\n",
    "==================================\n",
    "\n",
    "We have speculated that there may be an error in the way that the C1 correction was performed for BL1. Jeff Nico's paper defines\n",
    "$$c_1=\\dfrac{\\bar{\\rho}\\sigma_0 \\frac{N_A}{A} \\int_v \\frac{v_0}{v} I(v) dv}{\\int_v \\left( 1 - e^{-\\bar{\\rho}\\sigma_0 \\frac{N_A}{A} \\frac{v_0}{v}} \\right) I(v) dv}$$\n",
    "and we have shown that this can be re-expressed in terms of a wavelength spectrum as\n",
    "$$c_1=\\dfrac{C_0 \\int_v \\frac{I(\\lambda)}{\\lambda_0 \\lambda}  d\\lambda}{\\int_v \\left( 1 - e^{-C_0 \\frac{\\lambda}{\\lambda_0}} \\right) \\dfrac{I(\\lambda)}{\\lambda^2} d\\lambda}$$\n",
    "This transformation has been verified in a separate Mathematica notebook."
   ]
  },
  {
   "cell_type": "markdown",
   "id": "1107efc9-a99c-4d27-87e6-a0ae824f2d88",
   "metadata": {},
   "source": [
    "We have evaluated the latter version several times with different spectra and are getting corrections that amount to 3.x seconds in all cases, comparing poorly with the 5.4 seconds in the Nico paper. \n",
    "\n",
    "However, we have a MathCAD document from Scott Dewey that makes it appear as though he plugged the wavelength spectrum into the velocity integral form, without making the proper change of variables. Moreover, Gordon has obtained 5.x seconds from Nadia's spectrum but making the same error of ignoring the Jacobian correction to the integrals. I want to test this idea with all the spectra that I have.\n",
    "\n",
    "I start with a bunch of tools and numbers."
   ]
  },
  {
   "cell_type": "code",
   "execution_count": 23,
   "id": "046552f5-2e07-49ab-a0ea-651255323507",
   "metadata": {},
   "outputs": [
    {
     "name": "stdout",
     "output_type": "stream",
     "text": [
      "C0 = 0.0037024464031937517\n",
      "kn = 3956.0276785316046\n",
      "lambda0 = 1.7981943993325475\n"
     ]
    }
   ],
   "source": [
    "import numpy as np\n",
    "import matplotlib.pyplot as plt\n",
    "from scipy.integrate import simps, trapz\n",
    "\n",
    "rho = 39.3E-6/1e-4  # Deposit areal density (g/m^2)\n",
    "sigma = 941E-28     # 6Li absorption cross-section (m^2)\n",
    "NA = 6.02214076E23  # Avogadro's number in atoms/mol\n",
    "A = 6.01512         # 6Li density in g/mol \n",
    "C0 = rho*sigma*NA/A # Dimensionless constant from integrals\n",
    "print(f'C0 = {C0}')\n",
    "v0 = 2200           # Reference velocity (m/s)\n",
    "kn = 12398.4 * 299792458 / 939565421 # = velocity * wavelength (Constant, see NSPectrum2.ipynb\n",
    "print(f'kn = {kn}')\n",
    "lambda0 = kn/v0     # Reference wavelength\n",
    "print(f'lambda0 = {lambda0}')\n",
    "tau = 886.3         # Base neutron lifetime (s)\n",
    "\n",
    "def numIntL(l, I):  # Compute numerator integral in wavelength form\n",
    "    num = C0 * simps(I/(l * lambda0), l)\n",
    "    print(f'L numerator = {num}')\n",
    "    return num\n",
    "\n",
    "def denIntL(l, I):  # Compute denominator integral in wavelength form\n",
    "    pre = 1 - np.exp(-C0 * l / lambda0)\n",
    "    den = simps(pre * I/(l * l), l)\n",
    "    print(f'L denominator = {den}')\n",
    "    return den\n",
    "\n",
    "def lInt(l, I):     # Compute C1 by wavelength method, print time correction\n",
    "    C1 = numIntL(l, I)/denIntL(l, I)\n",
    "    corr = (C1 - 1) * tau\n",
    "    print(f'C1 by lambda method = {C1}')\n",
    "    print(f'Correction by lambda method = {corr}')\n",
    "    return C1\n",
    "    \n",
    "def numIntS(l, I):  # Compute numerator integral Scott's way\n",
    "    num = C0 * simps(I*(l/lambda0), l)\n",
    "    print(f'S numerator = {num}')\n",
    "    return num\n",
    "\n",
    "def denIntS(l, I):  # Compute denominator integral Scott's way\n",
    "    pre = 1 - np.exp(-C0 * l / lambda0)\n",
    "    den = simps(pre * I, l)\n",
    "    print(f'S denominator = {den}')\n",
    "    return den\n",
    "    \n",
    "def sInt(l, I):     # Compute C1 by wavelength method, print time correction\n",
    "    C1 = numIntS(l, I)/denIntS(l, I)\n",
    "    corr = (C1 - 1) * tau\n",
    "    print(f\"Correction by Scotts method = {corr}\")\n",
    "    return C1\n"
   ]
  },
  {
   "cell_type": "markdown",
   "id": "ced33a2e-1bd0-4cad-8380-ae29bdacbd4f",
   "metadata": {},
   "source": [
    "We will start with Nadia's BL2 spectrum."
   ]
  },
  {
   "cell_type": "code",
   "execution_count": 3,
   "id": "db107267-7879-40ff-8eb3-ec2eaa5c5568",
   "metadata": {},
   "outputs": [
    {
     "data": {
      "text/plain": [
       "[<matplotlib.lines.Line2D at 0x7f91391bce80>]"
      ]
     },
     "execution_count": 3,
     "metadata": {},
     "output_type": "execute_result"
    },
    {
     "data": {
      "image/png": "[encoded data removed]",
      "text/plain": [
       "<Figure size 432x288 with 1 Axes>"
      ]
     },
     "metadata": {
      "needs_background": "light"
     },
     "output_type": "display_data"
    }
   ],
   "source": [
    "BL2dat = np.loadtxt('NGCData/Lmon_afterc2_Nadia_2_19_16_BL2_num.csv', delimiter=',')\n",
    "BL2lambda = BL2dat[:,0]\n",
    "BL2inten = BL2dat[:,1]\n",
    "plt.plot(BL2lambda, BL2inten, 'k.', markersize=1)"
   ]
  },
  {
   "cell_type": "code",
   "execution_count": 27,
   "id": "ca5c0f78-9515-4a4b-b7e6-6f7e63ae3e0c",
   "metadata": {},
   "outputs": [
    {
     "name": "stdout",
     "output_type": "stream",
     "text": [
      "L numerator = 253.78888655076955\n",
      "L denominator = 252.8538188251483\n",
      "C1 by lambda method = 1.0036980565686764\n",
      "Correction by lambda method = 3.2775875368178835\n"
     ]
    }
   ],
   "source": [
    "BL2C1 = lInt(BL2lambda, BL2inten)"
   ]
  },
  {
   "cell_type": "markdown",
   "id": "12eb8be8-83e7-4f4e-8419-952a0626ac31",
   "metadata": {},
   "source": [
    "Now repeat with Scott's method."
   ]
  },
  {
   "cell_type": "code",
   "execution_count": 24,
   "id": "cb51674e-7dac-4633-9595-a49802f20784",
   "metadata": {},
   "outputs": [
    {
     "name": "stdout",
     "output_type": "stream",
     "text": [
      "S numerator = 3998.127689115392\n",
      "S denominator = 3975.4867391054117\n",
      "Correction by Scotts method = 5.047601793374617\n"
     ]
    }
   ],
   "source": [
    "SBL2C1 = sInt(BL2lambda, BL2inten)"
   ]
  },
  {
   "cell_type": "markdown",
   "id": "ba364a9a-fe43-44a8-a8e4-38c29f16fe32",
   "metadata": {},
   "source": [
    "Oh dear, well that is interesting!!!\n",
    "\n",
    "Right, let's try with a different spectrum. The worst spectrum I have is the very low resolution NG6 spectrum that may be from 2013. Let's try it.\n",
    "\n",
    "Note that this comes as a capture flux spectrum and must be converted to total flux."
   ]
  },
  {
   "cell_type": "code",
   "execution_count": 26,
   "id": "fd216e1f-235b-4556-9c16-09a98b35182a",
   "metadata": {},
   "outputs": [
    {
     "data": {
      "text/plain": [
       "[<matplotlib.lines.Line2D at 0x7f91393415e0>]"
      ]
     },
     "execution_count": 26,
     "metadata": {},
     "output_type": "execute_result"
    },
    {
     "data": {
      "image/png": "[encoded data removed]",
      "text/plain": [
       "<Figure size 432x288 with 1 Axes>"
      ]
     },
     "metadata": {
      "needs_background": "light"
     },
     "output_type": "display_data"
    }
   ],
   "source": [
    "cf6 = np.loadtxt('NG6Data/NG6CapFlux.txt')\n",
    "cfl6 = cf6[:,0]\n",
    "cfi6 = cf6[:,1]\n",
    "plt.plot(cfl6,cfi6,'r.', markersize=1)\n",
    "tfi6 = cfi6 * lambda0 / cfl6\n",
    "plt.plot(cfl6,tfi6,'b+', markersize=1)"
   ]
  },
  {
   "cell_type": "markdown",
   "id": "94095147-002d-472e-af7e-a4b7737ec177",
   "metadata": {},
   "source": [
    "Using the total flux spectrum we get by the wavelength method"
   ]
  },
  {
   "cell_type": "code",
   "execution_count": 28,
   "id": "8cf16b71-deeb-4a0b-9514-5846875a1c16",
   "metadata": {},
   "outputs": [
    {
     "name": "stdout",
     "output_type": "stream",
     "text": [
      "L numerator = 4.326037894097209\n",
      "L denominator = 4.3073497223723765\n",
      "C1 by lambda method = 1.0043386706279656\n",
      "Correction by lambda method = 3.8453637775658733\n"
     ]
    }
   ],
   "source": [
    "cf6C0 = lInt(cfl6, tfi6)"
   ]
  },
  {
   "cell_type": "markdown",
   "id": "e4259fd7-93cf-4268-94e8-297c79d71cd6",
   "metadata": {},
   "source": [
    "and by Scott's method"
   ]
  },
  {
   "cell_type": "code",
   "execution_count": 30,
   "id": "4a6cc958-9179-484c-aab1-a0aca9b687a0",
   "metadata": {},
   "outputs": [
    {
     "name": "stdout",
     "output_type": "stream",
     "text": [
      "S numerator = 101.5537874546022\n",
      "S denominator = 100.79503540042035\n",
      "Correction by Scotts method = 6.671776471429013\n"
     ]
    }
   ],
   "source": [
    "Stf6C0 = sInt(cfl6, tfi6)"
   ]
  },
  {
   "cell_type": "markdown",
   "id": "e4acbb38-cfff-4914-8007-056625991487",
   "metadata": {},
   "source": [
    "High, but it is a crappy spectrum. What if I use the capture flux spectrum."
   ]
  },
  {
   "cell_type": "code",
   "execution_count": 31,
   "id": "2e50b5d7-d11d-43c1-94d7-323b684c864e",
   "metadata": {},
   "outputs": [
    {
     "name": "stdout",
     "output_type": "stream",
     "text": [
      "S numerator = 412.4756647950605\n",
      "S denominator = 408.56753546928525\n",
      "Correction by Scotts method = 8.477851813301914\n"
     ]
    }
   ],
   "source": [
    "Scf6C0 = sInt(cfl6, cfi6)"
   ]
  },
  {
   "cell_type": "markdown",
   "id": "bae50b17-d2af-4ae6-be4e-23e15c932a36",
   "metadata": {},
   "source": [
    "OK, so that is really bad.\n",
    "\n",
    "The last spectrum worth trying is the Emit spectrum, which is from NG-6 but with a super-mirror polarizer added."
   ]
  },
  {
   "cell_type": "code",
   "execution_count": 32,
   "id": "9fdd26c8-3ec4-433c-9d5c-705615d9db71",
   "metadata": {},
   "outputs": [
    {
     "data": {
      "text/plain": [
       "[<matplotlib.lines.Line2D at 0x7f9178d95280>]"
      ]
     },
     "execution_count": 32,
     "metadata": {},
     "output_type": "execute_result"
    },
    {
     "data": {
      "image/png": "[encoded data removed]",
      "text/plain": [
       "<Figure size 432x288 with 1 Axes>"
      ]
     },
     "metadata": {
      "needs_background": "light"
     },
     "output_type": "display_data"
    }
   ],
   "source": [
    "E6dat = np.loadtxt('NG6Data/NG6_EmitwSPM.txt', delimiter=',')\n",
    "E6lambda = E6dat[:,1]\n",
    "E6inten = E6dat[:,2]\n",
    "plt.plot(E6lambda, E6inten, 'k.', markersize=1)"
   ]
  },
  {
   "cell_type": "code",
   "execution_count": 33,
   "id": "68ee8825-50bc-4a62-82d6-50a67a3ad53f",
   "metadata": {},
   "outputs": [
    {
     "name": "stdout",
     "output_type": "stream",
     "text": [
      "L numerator = 3.06825905531955\n",
      "L denominator = 3.067091376907622\n",
      "C1 by lambda method = 1.0003807119738002\n",
      "Correction by lambda method = 0.3374250223791041\n"
     ]
    }
   ],
   "source": [
    "E6C0 = lInt(E6lambda, E6inten)"
   ]
  },
  {
   "cell_type": "code",
   "execution_count": 35,
   "id": "b62cfe55-29bb-4f23-9820-f88a33a30998",
   "metadata": {},
   "outputs": [
    {
     "name": "stdout",
     "output_type": "stream",
     "text": [
      "L numerator = 228.60712347589708\n",
      "L denominator = 228.60144488568307\n",
      "C1 by lambda method = 1.0000248405700884\n",
      "Correction by lambda method = 0.022016197269390456\n"
     ]
    }
   ],
   "source": [
    "E6B = E6inten * lambda0 / E6lambda\n",
    "E6BC0 = lInt(E6lambda, E6B)"
   ]
  },
  {
   "cell_type": "code",
   "execution_count": 36,
   "id": "5a4643bd-9119-49d3-8876-f1cde1335396",
   "metadata": {},
   "outputs": [
    {
     "data": {
      "text/plain": [
       "[<matplotlib.lines.Line2D at 0x7f9158609490>]"
      ]
     },
     "execution_count": 36,
     "metadata": {},
     "output_type": "execute_result"
    },
    {
     "data": {
      "image/png": "[encoded data removed]",
      "text/plain": [
       "<Figure size 432x288 with 1 Axes>"
      ]
     },
     "metadata": {
      "needs_background": "light"
     },
     "output_type": "display_data"
    }
   ],
   "source": [
    "plt.plot(E6lambda, E6B, 'k.', markersize=1)"
   ]
  },
  {
   "cell_type": "code",
   "execution_count": 37,
   "id": "691264d3-282b-4fa9-9fde-03f2fe43169c",
   "metadata": {},
   "outputs": [
    {
     "name": "stdout",
     "output_type": "stream",
     "text": [
      "S numerator = 2.040406623508086\n",
      "S denominator = 2.039145737648608\n",
      "Correction by Scotts method = 0.5480349523932884\n"
     ]
    },
    {
     "data": {
      "text/plain": [
       "1.0006183402373838"
      ]
     },
     "execution_count": 37,
     "metadata": {},
     "output_type": "execute_result"
    }
   ],
   "source": [
    "sInt(E6lambda, E6B)"
   ]
  },
  {
   "cell_type": "code",
   "execution_count": 38,
   "id": "54bd4f99-2778-4b24-8223-6f5c54b4574f",
   "metadata": {},
   "outputs": [
    {
     "name": "stdout",
     "output_type": "stream",
     "text": [
      "S numerator = 0.681455979715003\n",
      "S denominator = 0.6809364596600125\n",
      "Correction by Scotts method = 0.6762020423580136\n"
     ]
    },
    {
     "data": {
      "text/plain": [
       "1.0007629493877446"
      ]
     },
     "execution_count": 38,
     "metadata": {},
     "output_type": "execute_result"
    }
   ],
   "source": [
    "sInt(E6lambda, E6inten)"
   ]
  },
  {
   "cell_type": "markdown",
   "id": "f244ba12-1912-4bd7-b4e5-622f7fe182ab",
   "metadata": {},
   "source": [
    "So none of the Emit spectra give sensible answers."
   ]
  },
  {
   "cell_type": "markdown",
   "id": "f5041014-4e06-4e65-a5b9-ed649dac0db6",
   "metadata": {},
   "source": [
    "This is suggestive but not conclusive."
   ]
  },
  {
   "cell_type": "code",
   "execution_count": null,
   "id": "f353ac44-105f-4ed0-b3bf-a8ebd6e9f7a1",
   "metadata": {},
   "outputs": [],
   "source": []
  }
 ],
 "metadata": {
  "kernelspec": {
   "display_name": "Python 3 (ipykernel)",
   "language": "python",
   "name": "python3"
  },
  "language_info": {
   "codemirror_mode": {
    "name": "ipython",
    "version": 3
   },
   "file_extension": ".py",
   "mimetype": "text/x-python",
   "name": "python",
   "nbconvert_exporter": "python",
   "pygments_lexer": "ipython3",
   "version": "3.9.7"
  }
 },
 "nbformat": 4,
 "nbformat_minor": 5
}
