{
 "cells": [
  {
   "cell_type": "markdown",
   "id": "17c4d157-6d08-4ea7-84a0-e3654e86ff76",
   "metadata": {},
   "source": [
    "Capture Flux?\n",
    "=============\n",
    "\n",
    "Are we being fooled by the difference between a black spectrum and a capture spectrum?\n",
    "\n",
    "If I understand aright, the capture flux spectrum is related to the black spectrum through\n",
    "$$I_{cap}(v)=I_{black}(v)\\times{}\\frac{v_{0}}{v}$$\n",
    "or, equivalently,\n",
    "$$I_{cap}(\\lambda)=I_{black}(\\lambda)\\times{}\\frac{\\lambda}{\\lambda_{0}}$$"
   ]
  },
  {
   "cell_type": "markdown",
   "id": "f31c661c-1128-4a7d-a860-9a62a21956a7",
   "metadata": {},
   "source": [
    "We have also\n",
    "$$v\\times{}\\lambda=v_{0}\\times{}\\lambda_{0}=k_{n}$$\n",
    "so that\n",
    "$$\\dfrac{dv}{v}=-\\dfrac{d\\lambda}{\\lambda}\\qquad{}\\mathrm{or}\\qquad{}dv=-\\dfrac{d\\lambda}{\\lambda^{2}}$$"
   ]
  },
  {
   "cell_type": "markdown",
   "id": "791fab64-65f7-456f-8d2b-39a90a64b176",
   "metadata": {},
   "source": [
    "The standard form for C1 is\n",
    "$$c_1=\\dfrac{C_{0} \\int_v \\frac{v_0}{v} I_{b}(v) dv}{\\int_v \\left( 1 - e^{-C_{0} \\frac{v_0}{v}} \\right) I_{b}(v) dv}$$\n",
    "where\n",
    "$$C_{0}=\\bar{\\rho}\\sigma_0 \\frac{N_A}{A}$$\n",
    "and I have subscripted the intensities to emphasise that these are black intensities."
   ]
  },
  {
   "cell_type": "markdown",
   "id": "92c17e67-e754-4718-be57-e400ae5bd804",
   "metadata": {},
   "source": [
    "Now let us write in terms of capture flux.\n",
    "$$c_1=\\dfrac{C_{0} \\int_v I_{c}(v) dv}{\\int_v \\left( 1 - e^{-C_{0} \\frac{v_0}{v}} \\right) \\frac{\\lambda}{\\lambda_{0}} I_{c}(v) dv}$$"
   ]
  },
  {
   "cell_type": "markdown",
   "id": "2fe27fb0-6c7a-4f52-9449-528453b6d845",
   "metadata": {},
   "source": [
    "Then, transforming to the independent variable $\\lambda$ I get\n",
    "$$c_1=-\\dfrac{C_{0} \\int_{\\lambda} I_{c}(v) \\dfrac{d\\lambda}{\\lambda^{2}}}{-\\int_{\\lambda} \\left( 1 - e^{-C_{0} \\frac{v_0}{v}} \\right) \\frac{\\lambda}{\\lambda_{0}} I_{c}(v) \\dfrac{d\\lambda}{\\lambda^{2}}}$$\n",
    "or\n",
    "$$c_1=\\dfrac{C_{0} \\int_{\\lambda} \\dfrac{I_{c}(v)}{\\lambda^{2}} d\\lambda}{\\int_{\\lambda} \\left( 1 - e^{-C_{0} \\frac{v_0}{v}} \\right) \\dfrac{I_{c}(v)}{\\lambda_{0}\\lambda}  d\\lambda}$$"
   ]
  },
  {
   "cell_type": "markdown",
   "id": "7af711cd-7a33-41f8-9d87-01790c8dc846",
   "metadata": {},
   "source": [
    "So no, doing the integrals with capture flux does NOT mean that you can do what Scott and Gordon did."
   ]
  },
  {
   "cell_type": "code",
   "execution_count": null,
   "id": "215202db-ea7a-4087-ad10-642063f4f620",
   "metadata": {},
   "outputs": [],
   "source": []
  }
 ],
 "metadata": {
  "kernelspec": {
   "display_name": "Python 3 (ipykernel)",
   "language": "python",
   "name": "python3"
  },
  "language_info": {
   "codemirror_mode": {
    "name": "ipython",
    "version": 3
   },
   "file_extension": ".py",
   "mimetype": "text/x-python",
   "name": "python",
   "nbconvert_exporter": "python",
   "pygments_lexer": "ipython3",
   "version": "3.9.7"
  }
 },
 "nbformat": 4,
 "nbformat_minor": 5
}
